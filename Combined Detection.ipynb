{
 "cells": [
  {
   "cell_type": "markdown",
   "id": "326489cc",
   "metadata": {},
   "source": [
    "# COMBINED DETECTION( CAR PART MODEL AND DAMAGE MODEL)\n",
    "\n",
    "1. Get bounding box of all damage model results\n",
    "2. Use CV2 to calculate the center of all the boxes\n",
    "3. Get bounding box from car part model \n",
    "4. Check if center(damage model) is in bounding box(car part model)\n",
    "5. Derive information\n",
    "\n",
    "\n",
    "**Inspection Results Info**\n",
    "\n",
    "dictionary = { part : severity }"
   ]
  },
  {
   "cell_type": "markdown",
   "id": "3122d20a",
   "metadata": {},
   "source": [
    "## DEPLOY CAR PART MODEL"
   ]
  },
  {
   "cell_type": "code",
   "execution_count": 1,
   "id": "4b1694eb",
   "metadata": {},
   "outputs": [],
   "source": [
    "import sagemaker\n",
    "from sagemaker.tensorflow.model import TensorFlowModel\n",
    "\n",
    "sagemaker_session = sagemaker.Session()\n",
    "role = sagemaker.get_execution_role()"
   ]
  },
  {
   "cell_type": "code",
   "execution_count": 2,
   "id": "9cf5a162",
   "metadata": {},
   "outputs": [],
   "source": [
    "carpart_artifact_dir=\"s3://sagemaker-us-east-2-186402456289/jobs/tensorflow-maskrcnn-gpu-car-parts-2021-09-10-08-25-08/output/model.tar.gz\""
   ]
  },
  {
   "cell_type": "code",
   "execution_count": 3,
   "id": "346356e4",
   "metadata": {},
   "outputs": [],
   "source": [
    "carpart_estimator = TensorFlowModel(model_data= carpart_artifact_dir,\n",
    "                            role=role, \n",
    "                            framework_version=\"1.15.3\",\n",
    "                            entry_point = 'inference.py',\n",
    "                            source_dir=\"code\",\n",
    "                            env = {'PREDICT_USING_GRPC' : 'false'})"
   ]
  },
  {
   "cell_type": "code",
   "execution_count": 4,
   "id": "64a1d8e5",
   "metadata": {},
   "outputs": [
    {
     "name": "stderr",
     "output_type": "stream",
     "text": [
      "update_endpoint is a no-op in sagemaker>=2.\n",
      "See: https://sagemaker.readthedocs.io/en/stable/v2.html for details.\n"
     ]
    },
    {
     "name": "stdout",
     "output_type": "stream",
     "text": [
      "-------------!"
     ]
    }
   ],
   "source": [
    "carpart_predictor = carpart_estimator.deploy(initial_instance_count=1, instance_type='ml.m4.xlarge')"
   ]
  },
  {
   "cell_type": "code",
   "execution_count": 5,
   "id": "ebd6d378",
   "metadata": {},
   "outputs": [
    {
     "data": {
      "text/plain": [
       "'tensorflow-inference-2021-09-27-17-23-13-278'"
      ]
     },
     "execution_count": 5,
     "metadata": {},
     "output_type": "execute_result"
    }
   ],
   "source": [
    "carpart_predictor.endpoint_name"
   ]
  },
  {
   "cell_type": "code",
   "execution_count": 7,
   "id": "3a2425f6",
   "metadata": {},
   "outputs": [
    {
     "data": {
      "text/plain": [
       "['.ipynb_checkpoints',\n",
       " 'saved_model_preprocess.py',\n",
       " 'requirements.txt',\n",
       " 'saved_model_utils.py',\n",
       " 'visualizer.py',\n",
       " 'saved_model_config.py',\n",
       " 'saved_model_inference.py',\n",
       " 'config.py',\n",
       " 'inference.py']"
      ]
     },
     "execution_count": 7,
     "metadata": {},
     "output_type": "execute_result"
    }
   ],
   "source": [
    "import os\n",
    "os.listdir(\"Damage_detection/code\")"
   ]
  },
  {
   "cell_type": "markdown",
   "id": "c2005f0d",
   "metadata": {},
   "source": [
    "## DEPLOY DAMAGE MODEL"
   ]
  },
  {
   "cell_type": "code",
   "execution_count": 5,
   "id": "ebdfb3ef",
   "metadata": {},
   "outputs": [],
   "source": []
  },
  {
   "cell_type": "code",
   "execution_count": 24,
   "id": "bbed45f3",
   "metadata": {},
   "outputs": [],
   "source": [
    "# cardamage_artifact_dir = \"s3://sagemaker-us-east-2-186402456289/jobs/tensorflow-gpu-car-damage-detection-2021-09-09-13-51-00/output/model.tar.gz\"\n",
    "cardamage_artifact_dir =\"s3://sagemaker-us-east-2-186402456289/jobs/tensorflow-gpu-car-damage-detection-2021-09-27-11-27-50/output/model.tar.gz\"\n"
   ]
  },
  {
   "cell_type": "code",
   "execution_count": 25,
   "id": "b896e1ee",
   "metadata": {},
   "outputs": [],
   "source": [
    "cardamage_estimator = TensorFlowModel(model_data= cardamage_artifact_dir,\n",
    "                            role=role, \n",
    "                            framework_version=\"1.15.3\",\n",
    "                            entry_point = 'inference.py',\n",
    "                            source_dir=\"Damage_detection/code\",\n",
    "                            env = {'PREDICT_USING_GRPC' : 'false'})"
   ]
  },
  {
   "cell_type": "code",
   "execution_count": 26,
   "id": "b841f2dd",
   "metadata": {},
   "outputs": [
    {
     "name": "stderr",
     "output_type": "stream",
     "text": [
      "update_endpoint is a no-op in sagemaker>=2.\n",
      "See: https://sagemaker.readthedocs.io/en/stable/v2.html for details.\n"
     ]
    },
    {
     "name": "stdout",
     "output_type": "stream",
     "text": [
      "-------!"
     ]
    }
   ],
   "source": [
    "cardamage_predictor = cardamage_estimator.deploy(initial_instance_count=1, instance_type='ml.m4.xlarge')"
   ]
  },
  {
   "cell_type": "code",
   "execution_count": 27,
   "id": "bcfd2bdb",
   "metadata": {},
   "outputs": [
    {
     "data": {
      "text/plain": [
       "'tensorflow-inference-2021-09-27-17-50-52-855'"
      ]
     },
     "execution_count": 27,
     "metadata": {},
     "output_type": "execute_result"
    }
   ],
   "source": [
    "cardamage_predictor.endpoint_name"
   ]
  },
  {
   "cell_type": "markdown",
   "id": "d30743ce",
   "metadata": {},
   "source": [
    "## INVOKE"
   ]
  },
  {
   "cell_type": "code",
   "execution_count": 28,
   "id": "699b5fe0",
   "metadata": {},
   "outputs": [],
   "source": [
    "import visualizer as visualize\n",
    "import skimage\n",
    "import os\n",
    "import numpy as np\n",
    "import boto3\n",
    "import json\n",
    "import numpy as np\n",
    "from PIL import Image\n",
    "from IPython.display import display\n",
    "import io\n",
    "import base64\n",
    "from io import BytesIO\n"
   ]
  },
  {
   "cell_type": "code",
   "execution_count": null,
   "id": "1fabfc43",
   "metadata": {},
   "outputs": [],
   "source": []
  },
  {
   "cell_type": "code",
   "execution_count": 29,
   "id": "7c253b40",
   "metadata": {},
   "outputs": [],
   "source": [
    "def client_predictor(predictor,image):  \n",
    "    endpoint_name = predictor.endpoint_name\n",
    "    runtime_client = boto3.client('runtime.sagemaker')\n",
    "    response = runtime_client.invoke_endpoint(EndpointName=endpoint_name, \n",
    "                                           ContentType='application/x-image',     \n",
    "                                           Body=image)\n",
    "    res = response['Body'].read().decode('ascii')\n",
    "    r = json.loads(res)\n",
    "\n",
    "    \n",
    "    return r"
   ]
  },
  {
   "cell_type": "code",
   "execution_count": 14,
   "id": "9393494e",
   "metadata": {},
   "outputs": [],
   "source": [
    "def compute_results(file):\n",
    "    car_image = open(file, 'rb').read()\n",
    "    #part detection\n",
    "    part_detection = client_predictor(carpart_predictor, car_image)\n",
    "\n",
    "    #damage detection\n",
    "    damage_detection = client_predictor(cardamage_predictor, car_image)\n",
    "\n",
    "    return part_detection,damage_detection"
   ]
  },
  {
   "cell_type": "code",
   "execution_count": null,
   "id": "0428c604",
   "metadata": {},
   "outputs": [],
   "source": []
  },
  {
   "cell_type": "code",
   "execution_count": null,
   "id": "6a082868",
   "metadata": {},
   "outputs": [],
   "source": []
  },
  {
   "cell_type": "code",
   "execution_count": null,
   "id": "e2ecf0e8",
   "metadata": {},
   "outputs": [],
   "source": []
  },
  {
   "cell_type": "code",
   "execution_count": null,
   "id": "9b981a6b",
   "metadata": {},
   "outputs": [],
   "source": []
  },
  {
   "cell_type": "markdown",
   "id": "f00e52fe",
   "metadata": {},
   "source": [
    "## PERFORM COMPARE RESULTS AND EXTRACT INFO"
   ]
  },
  {
   "cell_type": "code",
   "execution_count": 15,
   "id": "b7d62d73",
   "metadata": {},
   "outputs": [],
   "source": [
    "#Bounding Box Centroid\n",
    "#center = ((x1+x2)/2, (y1+y2)/2)\n",
    "def extract_centroid(bbox):\n",
    "    x1 = bbox[0]\n",
    "    y1 = bbox[1]\n",
    "    x2 = bbox[2]\n",
    "    y2 = bbox[3]\n",
    "    \n",
    "    centroid = ((x1+x2)/2, (y1+y2)/2)\n",
    "    \n",
    "    return centroid"
   ]
  },
  {
   "cell_type": "code",
   "execution_count": 16,
   "id": "9bfc3df2",
   "metadata": {},
   "outputs": [],
   "source": [
    "#to judge a point(x0,y0) is in the rectangle, just to check if a < x0 < a+c and b < y0 < b + d\n",
    "\n",
    "def rectContains(rect,pt):\n",
    "    logic = rect[0] < pt[0] < rect[0]+rect[2] and rect[1] < pt[1] < rect[1]+rect[3]\n",
    "    return logic\n",
    "\n"
   ]
  },
  {
   "cell_type": "code",
   "execution_count": 17,
   "id": "c0aff462",
   "metadata": {},
   "outputs": [],
   "source": [
    "def extract_info(payload):\n",
    "    bbox = payload['rois']\n",
    "    class_ids = payload['class']\n",
    "    scores = payload['scores']\n",
    "    \n",
    "    return bbox,class_ids\n",
    "    "
   ]
  },
  {
   "cell_type": "code",
   "execution_count": 18,
   "id": "5a5aad64",
   "metadata": {},
   "outputs": [],
   "source": [
    "def isInRect(target_rect,child_rect):\n",
    "    centroid = extract_centroid(child_rect)\n",
    "    return rectContains(target_rect,centroid)"
   ]
  },
  {
   "cell_type": "code",
   "execution_count": null,
   "id": "efc46985",
   "metadata": {},
   "outputs": [],
   "source": [
    " "
   ]
  },
  {
   "cell_type": "markdown",
   "id": "fcb83c81",
   "metadata": {},
   "source": [
    "## PREDICTION"
   ]
  },
  {
   "cell_type": "code",
   "execution_count": 19,
   "id": "06325dec",
   "metadata": {},
   "outputs": [],
   "source": [
    "def dict_result(part_rois, damage_rois, part_ids,damage_ids):\n",
    "    \n",
    "    damage_cat = np.array([0,'none','low', 'medium', 'high'])\n",
    "    part_cat = np.array([0,\n",
    "               \"hood\", \n",
    "               \"front-bumper\", \n",
    "               \"rear-bumper\", \n",
    "               \"front-wind-screen\",\n",
    "               \"rear-windscreen\",\n",
    "               \"left-mirror\", \n",
    "               \"right-mirror\", \n",
    "               \"front-left-fender\", \n",
    "               \"font-right-fender\", \n",
    "               \"left-tail-light\", \n",
    "               \"right-tail-light\", \n",
    "               \"trunk\", \n",
    "               \"front-left-door\", \n",
    "               \"front-right-door\", \n",
    "               \"back-left-door\", \n",
    "               \"back-right-door\", \n",
    "               \"roof\", \n",
    "               \"tire\", \n",
    "               \"left-headlight\", \n",
    "               \"right-headlight\", \n",
    "               \"gas-tank\", \n",
    "               \"rear-left-fender\", \n",
    "               \"rear-right-fender\", \n",
    "               \"window\"])\n",
    "    dict_results = {}\n",
    "\n",
    "    for i, part_rect in enumerate(part_rois):\n",
    "        for j, damage_rect in enumerate(damage_rois):\n",
    "            if isInRect(part_rect,damage_rect):\n",
    "                dict_results[ part_cat[part_ids[i]] ] = damage_cat[damage_ids[j]]\n",
    "                \n",
    "    return dict_results"
   ]
  },
  {
   "cell_type": "code",
   "execution_count": 20,
   "id": "af678183",
   "metadata": {},
   "outputs": [],
   "source": [
    "list_files = os.listdir(\"sample_files\")"
   ]
  },
  {
   "cell_type": "code",
   "execution_count": 21,
   "id": "e476e6de",
   "metadata": {},
   "outputs": [
    {
     "data": {
      "text/plain": [
       "['car wreck_-ef43703c49fb57a010fa9ef1c6c28dbeffd491793e7333bb4299fe4490d95a7f.jpg',\n",
       " 'car wreck_-2432b535d4b3f5c96f4090d7aa69d76ba64577f4f85c9bb55817af2dd7c65aec.jpg',\n",
       " 'car wreck_-b5a3c6729b65b9d02d1398e4f46d17ed2cd1f5f26cc97cf720fc6016ca1208a4.jpg',\n",
       " '9.jpg',\n",
       " 'car wreck_-af76c4700ff3dc62083b2b54eb2d107a5c90526f56bcf072f31b662ca15c33ab.jpg',\n",
       " 'car wreck_-b0a3ab05fed79d0a3e134c71179c1834768e2d2e2f1d402f0cbdae715354e0f2.jpg',\n",
       " 'car crash_-f44e3172f0c99d67cac362ea118af93fe6a8868c3d6ed189d8983add49c90c13.jpg',\n",
       " 'car wreck_-16578778651c5856199faf5a3419a63ac033b2073026a47e2491b9c6f5117cb9.jpg',\n",
       " 'cardamaged-df735878beb4b81768983862a31d4ffd146d7b9512466f74d50dd112bdd35b79.jpg',\n",
       " 'car wreck_-c9334facae81b43badac6379cc48f73d8420db1f5eb81c736a01a4fb0d7bae0f.jpg',\n",
       " '10.jpg']"
      ]
     },
     "execution_count": 21,
     "metadata": {},
     "output_type": "execute_result"
    }
   ],
   "source": [
    "list_files"
   ]
  },
  {
   "cell_type": "code",
   "execution_count": 30,
   "id": "918812f2",
   "metadata": {},
   "outputs": [
    {
     "ename": "ModelError",
     "evalue": "An error occurred (ModelError) when calling the InvokeEndpoint operation: Received server error (502) from primary with message \"<html>\r\n<head><title>502 Bad Gateway</title></head>\r\n<body>\r\n<center><h1>502 Bad Gateway</h1></center>\r\n<hr><center>nginx/1.18.0</center>\r\n</body>\r\n</html>\r\n\". See https://us-east-2.console.aws.amazon.com/cloudwatch/home?region=us-east-2#logEventViewer:group=/aws/sagemaker/Endpoints/tensorflow-inference-2021-09-27-17-50-52-855 in account 186402456289 for more information.",
     "output_type": "error",
     "traceback": [
      "\u001b[0;31m---------------------------------------------------------------------------\u001b[0m",
      "\u001b[0;31mModelError\u001b[0m                                Traceback (most recent call last)",
      "\u001b[0;32m<ipython-input-30-1884a803849a>\u001b[0m in \u001b[0;36m<module>\u001b[0;34m\u001b[0m\n\u001b[1;32m      1\u001b[0m \u001b[0;32mfor\u001b[0m \u001b[0mfile\u001b[0m \u001b[0;32min\u001b[0m \u001b[0mlist_files\u001b[0m\u001b[0;34m:\u001b[0m\u001b[0;34m\u001b[0m\u001b[0;34m\u001b[0m\u001b[0m\n\u001b[1;32m      2\u001b[0m     \u001b[0mimage_path\u001b[0m \u001b[0;34m=\u001b[0m \u001b[0;34mf\"sample_files/{file}\"\u001b[0m\u001b[0;34m\u001b[0m\u001b[0;34m\u001b[0m\u001b[0m\n\u001b[0;32m----> 3\u001b[0;31m     \u001b[0mp_r\u001b[0m\u001b[0;34m,\u001b[0m \u001b[0md_r\u001b[0m \u001b[0;34m=\u001b[0m \u001b[0mcompute_results\u001b[0m\u001b[0;34m(\u001b[0m\u001b[0mimage_path\u001b[0m\u001b[0;34m)\u001b[0m\u001b[0;34m\u001b[0m\u001b[0;34m\u001b[0m\u001b[0m\n\u001b[0m\u001b[1;32m      4\u001b[0m \u001b[0;34m\u001b[0m\u001b[0m\n\u001b[1;32m      5\u001b[0m     \u001b[0mviz_img\u001b[0m \u001b[0;34m=\u001b[0m \u001b[0md_r\u001b[0m\u001b[0;34m[\u001b[0m\u001b[0;34m'image'\u001b[0m\u001b[0;34m]\u001b[0m\u001b[0;34m\u001b[0m\u001b[0;34m\u001b[0m\u001b[0m\n",
      "\u001b[0;32m<ipython-input-14-bed6e8cb80b1>\u001b[0m in \u001b[0;36mcompute_results\u001b[0;34m(file)\u001b[0m\n\u001b[1;32m      5\u001b[0m \u001b[0;34m\u001b[0m\u001b[0m\n\u001b[1;32m      6\u001b[0m     \u001b[0;31m#damage detection\u001b[0m\u001b[0;34m\u001b[0m\u001b[0;34m\u001b[0m\u001b[0;34m\u001b[0m\u001b[0m\n\u001b[0;32m----> 7\u001b[0;31m     \u001b[0mdamage_detection\u001b[0m \u001b[0;34m=\u001b[0m \u001b[0mclient_predictor\u001b[0m\u001b[0;34m(\u001b[0m\u001b[0mcardamage_predictor\u001b[0m\u001b[0;34m,\u001b[0m \u001b[0mcar_image\u001b[0m\u001b[0;34m)\u001b[0m\u001b[0;34m\u001b[0m\u001b[0;34m\u001b[0m\u001b[0m\n\u001b[0m\u001b[1;32m      8\u001b[0m \u001b[0;34m\u001b[0m\u001b[0m\n\u001b[1;32m      9\u001b[0m     \u001b[0;32mreturn\u001b[0m \u001b[0mpart_detection\u001b[0m\u001b[0;34m,\u001b[0m\u001b[0mdamage_detection\u001b[0m\u001b[0;34m\u001b[0m\u001b[0;34m\u001b[0m\u001b[0m\n",
      "\u001b[0;32m<ipython-input-29-3787e3daeb07>\u001b[0m in \u001b[0;36mclient_predictor\u001b[0;34m(predictor, image)\u001b[0m\n\u001b[1;32m      4\u001b[0m     response = runtime_client.invoke_endpoint(EndpointName=endpoint_name, \n\u001b[1;32m      5\u001b[0m                                            \u001b[0mContentType\u001b[0m\u001b[0;34m=\u001b[0m\u001b[0;34m'application/x-image'\u001b[0m\u001b[0;34m,\u001b[0m\u001b[0;34m\u001b[0m\u001b[0;34m\u001b[0m\u001b[0m\n\u001b[0;32m----> 6\u001b[0;31m                                            Body=image)\n\u001b[0m\u001b[1;32m      7\u001b[0m     \u001b[0mres\u001b[0m \u001b[0;34m=\u001b[0m \u001b[0mresponse\u001b[0m\u001b[0;34m[\u001b[0m\u001b[0;34m'Body'\u001b[0m\u001b[0;34m]\u001b[0m\u001b[0;34m.\u001b[0m\u001b[0mread\u001b[0m\u001b[0;34m(\u001b[0m\u001b[0;34m)\u001b[0m\u001b[0;34m.\u001b[0m\u001b[0mdecode\u001b[0m\u001b[0;34m(\u001b[0m\u001b[0;34m'ascii'\u001b[0m\u001b[0;34m)\u001b[0m\u001b[0;34m\u001b[0m\u001b[0;34m\u001b[0m\u001b[0m\n\u001b[1;32m      8\u001b[0m     \u001b[0mr\u001b[0m \u001b[0;34m=\u001b[0m \u001b[0mjson\u001b[0m\u001b[0;34m.\u001b[0m\u001b[0mloads\u001b[0m\u001b[0;34m(\u001b[0m\u001b[0mres\u001b[0m\u001b[0;34m)\u001b[0m\u001b[0;34m\u001b[0m\u001b[0;34m\u001b[0m\u001b[0m\n",
      "\u001b[0;32m~/anaconda3/envs/tensorflow_p36/lib/python3.6/site-packages/botocore/client.py\u001b[0m in \u001b[0;36m_api_call\u001b[0;34m(self, *args, **kwargs)\u001b[0m\n\u001b[1;32m    384\u001b[0m                     \"%s() only accepts keyword arguments.\" % py_operation_name)\n\u001b[1;32m    385\u001b[0m             \u001b[0;31m# The \"self\" in this scope is referring to the BaseClient.\u001b[0m\u001b[0;34m\u001b[0m\u001b[0;34m\u001b[0m\u001b[0;34m\u001b[0m\u001b[0m\n\u001b[0;32m--> 386\u001b[0;31m             \u001b[0;32mreturn\u001b[0m \u001b[0mself\u001b[0m\u001b[0;34m.\u001b[0m\u001b[0m_make_api_call\u001b[0m\u001b[0;34m(\u001b[0m\u001b[0moperation_name\u001b[0m\u001b[0;34m,\u001b[0m \u001b[0mkwargs\u001b[0m\u001b[0;34m)\u001b[0m\u001b[0;34m\u001b[0m\u001b[0;34m\u001b[0m\u001b[0m\n\u001b[0m\u001b[1;32m    387\u001b[0m \u001b[0;34m\u001b[0m\u001b[0m\n\u001b[1;32m    388\u001b[0m         \u001b[0m_api_call\u001b[0m\u001b[0;34m.\u001b[0m\u001b[0m__name__\u001b[0m \u001b[0;34m=\u001b[0m \u001b[0mstr\u001b[0m\u001b[0;34m(\u001b[0m\u001b[0mpy_operation_name\u001b[0m\u001b[0;34m)\u001b[0m\u001b[0;34m\u001b[0m\u001b[0;34m\u001b[0m\u001b[0m\n",
      "\u001b[0;32m~/anaconda3/envs/tensorflow_p36/lib/python3.6/site-packages/botocore/client.py\u001b[0m in \u001b[0;36m_make_api_call\u001b[0;34m(self, operation_name, api_params)\u001b[0m\n\u001b[1;32m    703\u001b[0m             \u001b[0merror_code\u001b[0m \u001b[0;34m=\u001b[0m \u001b[0mparsed_response\u001b[0m\u001b[0;34m.\u001b[0m\u001b[0mget\u001b[0m\u001b[0;34m(\u001b[0m\u001b[0;34m\"Error\"\u001b[0m\u001b[0;34m,\u001b[0m \u001b[0;34m{\u001b[0m\u001b[0;34m}\u001b[0m\u001b[0;34m)\u001b[0m\u001b[0;34m.\u001b[0m\u001b[0mget\u001b[0m\u001b[0;34m(\u001b[0m\u001b[0;34m\"Code\"\u001b[0m\u001b[0;34m)\u001b[0m\u001b[0;34m\u001b[0m\u001b[0;34m\u001b[0m\u001b[0m\n\u001b[1;32m    704\u001b[0m             \u001b[0merror_class\u001b[0m \u001b[0;34m=\u001b[0m \u001b[0mself\u001b[0m\u001b[0;34m.\u001b[0m\u001b[0mexceptions\u001b[0m\u001b[0;34m.\u001b[0m\u001b[0mfrom_code\u001b[0m\u001b[0;34m(\u001b[0m\u001b[0merror_code\u001b[0m\u001b[0;34m)\u001b[0m\u001b[0;34m\u001b[0m\u001b[0;34m\u001b[0m\u001b[0m\n\u001b[0;32m--> 705\u001b[0;31m             \u001b[0;32mraise\u001b[0m \u001b[0merror_class\u001b[0m\u001b[0;34m(\u001b[0m\u001b[0mparsed_response\u001b[0m\u001b[0;34m,\u001b[0m \u001b[0moperation_name\u001b[0m\u001b[0;34m)\u001b[0m\u001b[0;34m\u001b[0m\u001b[0;34m\u001b[0m\u001b[0m\n\u001b[0m\u001b[1;32m    706\u001b[0m         \u001b[0;32melse\u001b[0m\u001b[0;34m:\u001b[0m\u001b[0;34m\u001b[0m\u001b[0;34m\u001b[0m\u001b[0m\n\u001b[1;32m    707\u001b[0m             \u001b[0;32mreturn\u001b[0m \u001b[0mparsed_response\u001b[0m\u001b[0;34m\u001b[0m\u001b[0;34m\u001b[0m\u001b[0m\n",
      "\u001b[0;31mModelError\u001b[0m: An error occurred (ModelError) when calling the InvokeEndpoint operation: Received server error (502) from primary with message \"<html>\r\n<head><title>502 Bad Gateway</title></head>\r\n<body>\r\n<center><h1>502 Bad Gateway</h1></center>\r\n<hr><center>nginx/1.18.0</center>\r\n</body>\r\n</html>\r\n\". See https://us-east-2.console.aws.amazon.com/cloudwatch/home?region=us-east-2#logEventViewer:group=/aws/sagemaker/Endpoints/tensorflow-inference-2021-09-27-17-50-52-855 in account 186402456289 for more information."
     ]
    }
   ],
   "source": [
    "for file in list_files:\n",
    "    image_path = f\"sample_files/{file}\"\n",
    "    p_r, d_r = compute_results(image_path)\n",
    "    \n",
    "    viz_img = d_r['image']\n",
    "    decoded = base64.b64decode(viz_img)\n",
    "    image = io.BytesIO(decoded)\n",
    "    img = Image.open(image)\n",
    "    display(img)\n",
    "    \n",
    "    d_rois, d_class_ids = extract_info(d_r['data'])\n",
    "    p_rois, p_class_ids = extract_info(p_r)\n",
    "    result = dict_result(p_rois,d_rois,p_class_ids, d_class_ids) \n",
    "    print(result)"
   ]
  },
  {
   "cell_type": "code",
   "execution_count": 45,
   "id": "a478e3bb",
   "metadata": {},
   "outputs": [],
   "source": [
    "\n"
   ]
  },
  {
   "cell_type": "code",
   "execution_count": 55,
   "id": "51be7e13",
   "metadata": {},
   "outputs": [],
   "source": [
    "   "
   ]
  },
  {
   "cell_type": "markdown",
   "id": "66328b6f",
   "metadata": {},
   "source": [
    "## CLEAN UP"
   ]
  },
  {
   "cell_type": "code",
   "execution_count": 33,
   "id": "29d524fc",
   "metadata": {},
   "outputs": [],
   "source": [
    "# carpart_predictor.delete_endpoint()\n",
    "# cardamage_predictor.delete_endpoint()"
   ]
  }
 ],
 "metadata": {
  "kernelspec": {
   "display_name": "conda_tensorflow_p36",
   "language": "python",
   "name": "conda_tensorflow_p36"
  },
  "language_info": {
   "codemirror_mode": {
    "name": "ipython",
    "version": 3
   },
   "file_extension": ".py",
   "mimetype": "text/x-python",
   "name": "python",
   "nbconvert_exporter": "python",
   "pygments_lexer": "ipython3",
   "version": "3.6.13"
  }
 },
 "nbformat": 4,
 "nbformat_minor": 5
}
