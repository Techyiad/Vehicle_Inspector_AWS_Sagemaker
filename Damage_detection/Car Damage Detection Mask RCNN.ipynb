{
 "cells": [
  {
   "cell_type": "markdown",
   "id": "f6abdc06",
   "metadata": {},
   "source": [
    "# TRAINING"
   ]
  },
  {
   "cell_type": "code",
   "execution_count": 6,
   "id": "1cc54cda",
   "metadata": {},
   "outputs": [],
   "source": [
    "import sagemaker\n",
    "\n",
    "sagemaker_session = sagemaker.Session()\n",
    "role = sagemaker.get_execution_role()"
   ]
  },
  {
   "cell_type": "code",
   "execution_count": 7,
   "id": "9c3f82d9",
   "metadata": {},
   "outputs": [],
   "source": [
    "from sagemaker.tensorflow import TensorFlow\n",
    "\n",
    "hyperparams={'epochs'              : 50,\n",
    "             'layers'              : 'heads', # heads or all\n",
    "             'pretrained_weight'   : 'imagenet', # imagenet, coco\n",
    "            }\n",
    "\n",
    "bucket_name = sagemaker_session.default_bucket()\n",
    "output_path = f's3://{bucket_name}/jobs'"
   ]
  },
  {
   "cell_type": "code",
   "execution_count": 8,
   "id": "794da1d3",
   "metadata": {},
   "outputs": [
    {
     "data": {
      "text/plain": [
       "['.ipynb_checkpoints',\n",
       " 'annotations.json',\n",
       " 'requirements.txt',\n",
       " 'model.py',\n",
       " 'utils.py',\n",
       " 'model_serving.py',\n",
       " 'mrcnn',\n",
       " 'preprocessor.py',\n",
       " 'train.py']"
      ]
     },
     "execution_count": 8,
     "metadata": {},
     "output_type": "execute_result"
    }
   ],
   "source": [
    "import os\n",
    "\n",
    "os.listdir(\"train/\")"
   ]
  },
  {
   "cell_type": "code",
   "execution_count": 9,
   "id": "46b1aca4",
   "metadata": {},
   "outputs": [],
   "source": [
    "tf_estimator = TensorFlow(entry_point          = 'train.py', \n",
    "                          source_dir           = 'train/',\n",
    "                          output_path          = f'{output_path}/',\n",
    "                          code_location        = output_path,\n",
    "                          role                 = role,\n",
    "                          instance_count       = 1, \n",
    "                          instance_type        = 'ml.p3.2xlarge',\n",
    "                          framework_version    = '1.15.3', \n",
    "                          py_version           = 'py3',\n",
    "                          script_mode          = True,\n",
    "                          sagemaker_session    = sagemaker_session,\n",
    "                          hyperparameters      = hyperparams)"
   ]
  },
  {
   "cell_type": "code",
   "execution_count": 11,
   "id": "fb193171",
   "metadata": {},
   "outputs": [],
   "source": [
    "# import time\n",
    "# job_name=f'tensorflow-gpu-car-damage-detection-{time.strftime(\"%Y-%m-%d-%H-%M-%S\", time.gmtime())}'\n",
    "# tf_estimator.fit({'training'  : \"s3://sagemaker-us-east-2-186402456289/sagemaker/mask_rcnn_localization_train\",\n",
    "#                   'validation': \"s3://sagemaker-us-east-2-186402456289/sagemaker/mask_rcnn_localization_valid\",\n",
    "#                   }, \n",
    "#                  job_name = job_name)"
   ]
  },
  {
   "cell_type": "code",
   "execution_count": null,
   "id": "ac0f705a",
   "metadata": {},
   "outputs": [],
   "source": []
  },
  {
   "cell_type": "markdown",
   "id": "a3afab36",
   "metadata": {},
   "source": [
    "# DEPLOYMENT"
   ]
  },
  {
   "cell_type": "code",
   "execution_count": 1,
   "id": "bb70db6e",
   "metadata": {},
   "outputs": [],
   "source": [
    "import sagemaker\n",
    "from sagemaker.tensorflow.model import TensorFlowModel\n",
    "\n",
    "sagemaker_session = sagemaker.Session()\n",
    "role = sagemaker.get_execution_role()"
   ]
  },
  {
   "cell_type": "code",
   "execution_count": 2,
   "id": "a801a489",
   "metadata": {},
   "outputs": [],
   "source": [
    "# s3://sagemaker-us-east-2-186402456289/jobs/tensorflow-gpu-car-damage-detection-2021-09-09-13-51-00/output/model.tar.gz\n",
    "\n",
    "artifact_dir = \"s3://sagemaker-us-east-2-186402456289/jobs/tensorflow-gpu-car-damage-detection-2021-09-27-11-27-50/output/model.tar.gz\""
   ]
  },
  {
   "cell_type": "code",
   "execution_count": 3,
   "id": "fa7d7111",
   "metadata": {},
   "outputs": [],
   "source": [
    "estimator = TensorFlowModel(model_data= artifact_dir,\n",
    "                            role=role, \n",
    "                            framework_version=\"1.15.3\",\n",
    "                            entry_point = 'inference.py',\n",
    "                            source_dir=\"code\",\n",
    "                            env = {'PREDICT_USING_GRPC' : 'false'})"
   ]
  },
  {
   "cell_type": "code",
   "execution_count": 4,
   "id": "729836b9",
   "metadata": {},
   "outputs": [
    {
     "name": "stderr",
     "output_type": "stream",
     "text": [
      "update_endpoint is a no-op in sagemaker>=2.\n",
      "See: https://sagemaker.readthedocs.io/en/stable/v2.html for details.\n"
     ]
    },
    {
     "name": "stdout",
     "output_type": "stream",
     "text": [
      "-------!"
     ]
    }
   ],
   "source": [
    "predictor = estimator.deploy(initial_instance_count=1, instance_type='ml.m4.xlarge')"
   ]
  },
  {
   "cell_type": "code",
   "execution_count": 5,
   "id": "3b6a777e",
   "metadata": {},
   "outputs": [
    {
     "data": {
      "text/plain": [
       "'tensorflow-inference-2021-09-27-17-14-59-964'"
      ]
     },
     "execution_count": 5,
     "metadata": {},
     "output_type": "execute_result"
    }
   ],
   "source": [
    "predictor.endpoint_name"
   ]
  },
  {
   "cell_type": "markdown",
   "id": "af210f6f",
   "metadata": {},
   "source": [
    "# PREDICTION"
   ]
  },
  {
   "cell_type": "code",
   "execution_count": 6,
   "id": "71920b17",
   "metadata": {},
   "outputs": [
    {
     "name": "stdout",
     "output_type": "stream",
     "text": [
      "WARNING:tensorflow:From /home/ec2-user/anaconda3/envs/tensorflow_p36/cpu/lib/python3.6/site-packages/tensorflow_core/__init__.py:1473: The name tf.estimator.inputs is deprecated. Please use tf.compat.v1.estimator.inputs instead.\n",
      "\n"
     ]
    }
   ],
   "source": [
    "import visualizer as visualize\n",
    "import skimage"
   ]
  },
  {
   "cell_type": "code",
   "execution_count": 7,
   "id": "e4c009e8",
   "metadata": {},
   "outputs": [],
   "source": [
    "import os\n",
    "import numpy as np\n",
    "list_files = os.listdir(\"../sample_files\") "
   ]
  },
  {
   "cell_type": "code",
   "execution_count": 11,
   "id": "ac89897e",
   "metadata": {},
   "outputs": [
    {
     "data": {
      "text/plain": [
       "['car wreck_-ef43703c49fb57a010fa9ef1c6c28dbeffd491793e7333bb4299fe4490d95a7f.jpg']"
      ]
     },
     "execution_count": 11,
     "metadata": {},
     "output_type": "execute_result"
    }
   ],
   "source": [
    "list_files[0:1]"
   ]
  },
  {
   "cell_type": "code",
   "execution_count": 9,
   "id": "e0c8075f",
   "metadata": {},
   "outputs": [],
   "source": [
    "import boto3\n",
    "import json\n",
    "import numpy as np\n",
    "from PIL import Image\n",
    "from IPython.display import display\n",
    "import io\n",
    "import base64\n",
    "from io import BytesIO\n",
    "\n",
    "categories = np.array([0,'none','low', 'medium', 'high'])\n",
    "\n",
    "def client_predictor(files):\n",
    "    for file in files:\n",
    "        image_path = f\"../sample_files/{file}\"\n",
    "        car_image = open(image_path, 'rb').read()\n",
    "        endpoint_name = predictor.endpoint_name\n",
    "        runtime_client = boto3.client('runtime.sagemaker')\n",
    "        response = runtime_client.invoke_endpoint(EndpointName=endpoint_name, \n",
    "                                           ContentType='application/x-image',     \n",
    "                                           Body=car_image)\n",
    "        res = response['Body'].read().decode('ascii')\n",
    "        \n",
    "        r = json.loads(res)\n",
    "        viz_img = r['image']\n",
    "        decoded = base64.b64decode(viz_img)\n",
    "        image = io.BytesIO(decoded)\n",
    "#         image_64_decode = base64.decodebytes(image) \n",
    "\n",
    "        img = Image.open(image)\n",
    "        display(img)"
   ]
  },
  {
   "cell_type": "markdown",
   "id": "7d56618b",
   "metadata": {},
   "source": [
    "# VISUALIZE"
   ]
  },
  {
   "cell_type": "code",
   "execution_count": 12,
   "id": "d1fd4118",
   "metadata": {},
   "outputs": [],
   "source": [
    "# client_predictor(list_files[0:1])"
   ]
  },
  {
   "cell_type": "code",
   "execution_count": 66,
   "id": "b7b9a344",
   "metadata": {},
   "outputs": [],
   "source": [
    "# detect(predictor,list_files)"
   ]
  },
  {
   "cell_type": "markdown",
   "id": "f5119925",
   "metadata": {},
   "source": [
    "# HOUSE CLEANING"
   ]
  },
  {
   "cell_type": "code",
   "execution_count": 13,
   "id": "e753cf73",
   "metadata": {},
   "outputs": [],
   "source": [
    "predictor.delete_endpoint()"
   ]
  }
 ],
 "metadata": {
  "kernelspec": {
   "display_name": "conda_tensorflow_p36",
   "language": "python",
   "name": "conda_tensorflow_p36"
  },
  "language_info": {
   "codemirror_mode": {
    "name": "ipython",
    "version": 3
   },
   "file_extension": ".py",
   "mimetype": "text/x-python",
   "name": "python",
   "nbconvert_exporter": "python",
   "pygments_lexer": "ipython3",
   "version": "3.6.13"
  }
 },
 "nbformat": 4,
 "nbformat_minor": 5
}
