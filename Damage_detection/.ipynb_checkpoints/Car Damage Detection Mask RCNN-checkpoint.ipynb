{
 "cells": [
  {
   "cell_type": "markdown",
   "id": "f4b8c901",
   "metadata": {},
   "source": [
    "# TRAINING"
   ]
  },
  {
   "cell_type": "code",
   "execution_count": 6,
   "id": "b865069c",
   "metadata": {},
   "outputs": [],
   "source": [
    "import sagemaker\n",
    "\n",
    "sagemaker_session = sagemaker.Session()\n",
    "role = sagemaker.get_execution_role()"
   ]
  },
  {
   "cell_type": "code",
   "execution_count": 7,
   "id": "818a7220",
   "metadata": {},
   "outputs": [],
   "source": [
    "from sagemaker.tensorflow import TensorFlow\n",
    "\n",
    "hyperparams={'epochs'              : 50,\n",
    "             'layers'              : 'heads', # heads or all\n",
    "             'pretrained_weight'   : 'imagenet', # imagenet, coco\n",
    "            }\n",
    "\n",
    "bucket_name = sagemaker_session.default_bucket()\n",
    "output_path = f's3://{bucket_name}/jobs'"
   ]
  },
  {
   "cell_type": "code",
   "execution_count": 8,
   "id": "b48b152c",
   "metadata": {},
   "outputs": [
    {
     "data": {
      "text/plain": [
       "['.ipynb_checkpoints',\n",
       " 'annotations.json',\n",
       " 'requirements.txt',\n",
       " 'model.py',\n",
       " 'utils.py',\n",
       " 'model_serving.py',\n",
       " 'mrcnn',\n",
       " 'preprocessor.py',\n",
       " 'train.py']"
      ]
     },
     "execution_count": 8,
     "metadata": {},
     "output_type": "execute_result"
    }
   ],
   "source": [
    "import os\n",
    "\n",
    "os.listdir(\"train/\")"
   ]
  },
  {
   "cell_type": "code",
   "execution_count": 9,
   "id": "584b1165",
   "metadata": {},
   "outputs": [],
   "source": [
    "tf_estimator = TensorFlow(entry_point          = 'train.py', \n",
    "                          source_dir           = 'train/',\n",
    "                          output_path          = f'{output_path}/',\n",
    "                          code_location        = output_path,\n",
    "                          role                 = role,\n",
    "                          instance_count       = 1, \n",
    "                          instance_type        = 'ml.p3.2xlarge',\n",
    "                          framework_version    = '1.15.3', \n",
    "                          py_version           = 'py3',\n",
    "                          script_mode          = True,\n",
    "                          sagemaker_session    = sagemaker_session,\n",
    "                          hyperparameters      = hyperparams)"
   ]
  },
  {
   "cell_type": "code",
   "execution_count": 11,
   "id": "8721afd1",
   "metadata": {},
   "outputs": [],
   "source": [
    "# import time\n",
    "# job_name=f'tensorflow-gpu-car-damage-detection-{time.strftime(\"%Y-%m-%d-%H-%M-%S\", time.gmtime())}'\n",
    "# tf_estimator.fit({'training'  : \"s3://sagemaker-us-east-2-186402456289/sagemaker/mask_rcnn_localization_train\",\n",
    "#                   'validation': \"s3://sagemaker-us-east-2-186402456289/sagemaker/mask_rcnn_localization_valid\",\n",
    "#                   }, \n",
    "#                  job_name = job_name)"
   ]
  },
  {
   "cell_type": "code",
   "execution_count": null,
   "id": "ae1b55b4",
   "metadata": {},
   "outputs": [],
   "source": []
  },
  {
   "cell_type": "markdown",
   "id": "fd4978f0",
   "metadata": {},
   "source": [
    "# DEPLOYMENT"
   ]
  },
  {
   "cell_type": "code",
   "execution_count": 13,
   "id": "af248cb0",
   "metadata": {},
   "outputs": [],
   "source": [
    "import sagemaker\n",
    "from sagemaker.tensorflow.model import TensorFlowModel\n",
    "\n",
    "sagemaker_session = sagemaker.Session()\n",
    "role = sagemaker.get_execution_role()"
   ]
  },
  {
   "cell_type": "code",
   "execution_count": 14,
   "id": "9f8311ef",
   "metadata": {},
   "outputs": [],
   "source": [
    "# s3://sagemaker-us-east-2-186402456289/jobs/tensorflow-gpu-car-damage-detection-2021-09-09-13-51-00/output/model.tar.gz\n",
    "\n",
    "artifact_dir = \"s3://sagemaker-us-east-2-186402456289/jobs/tensorflow-gpu-car-damage-detection-2021-09-27-11-27-50/output/model.tar.gz\""
   ]
  },
  {
   "cell_type": "code",
   "execution_count": 15,
   "id": "6e1f507f",
   "metadata": {},
   "outputs": [],
   "source": [
    "estimator = TensorFlowModel(model_data= artifact_dir,\n",
    "                            role=role, \n",
    "                            framework_version=\"1.15.3\",\n",
    "                            entry_point = 'inference.py',\n",
    "                            source_dir=\"code\",\n",
    "                            env = {'PREDICT_USING_GRPC' : 'false'})"
   ]
  },
  {
   "cell_type": "code",
   "execution_count": 16,
   "id": "a23206a9",
   "metadata": {},
   "outputs": [
    {
     "name": "stderr",
     "output_type": "stream",
     "text": [
      "update_endpoint is a no-op in sagemaker>=2.\n",
      "See: https://sagemaker.readthedocs.io/en/stable/v2.html for details.\n"
     ]
    },
    {
     "name": "stdout",
     "output_type": "stream",
     "text": [
      "-------!"
     ]
    }
   ],
   "source": [
    "predictor = estimator.deploy(initial_instance_count=1, instance_type='ml.m4.xlarge')"
   ]
  },
  {
   "cell_type": "code",
   "execution_count": 23,
   "id": "15915aeb",
   "metadata": {},
   "outputs": [
    {
     "data": {
      "text/plain": [
       "'tensorflow-inference-2021-09-27-16-41-04-498'"
      ]
     },
     "execution_count": 23,
     "metadata": {},
     "output_type": "execute_result"
    }
   ],
   "source": [
    "predictor.endpoint_name"
   ]
  },
  {
   "cell_type": "markdown",
   "id": "218426d9",
   "metadata": {},
   "source": [
    "# PREDICTION"
   ]
  },
  {
   "cell_type": "code",
   "execution_count": 17,
   "id": "75950df8",
   "metadata": {},
   "outputs": [
    {
     "name": "stdout",
     "output_type": "stream",
     "text": [
      "WARNING:tensorflow:From /home/ec2-user/anaconda3/envs/tensorflow_p36/cpu/lib/python3.6/site-packages/tensorflow_core/__init__.py:1473: The name tf.estimator.inputs is deprecated. Please use tf.compat.v1.estimator.inputs instead.\n",
      "\n"
     ]
    }
   ],
   "source": [
    "import visualizer as visualize\n",
    "import skimage"
   ]
  },
  {
   "cell_type": "code",
   "execution_count": 27,
   "id": "30652468",
   "metadata": {},
   "outputs": [],
   "source": [
    "import os\n",
    "import numpy as np\n",
    "list_files = os.listdir(\"../sample_files\") "
   ]
  },
  {
   "cell_type": "code",
   "execution_count": 32,
   "id": "cd24ab8f",
   "metadata": {},
   "outputs": [
    {
     "data": {
      "text/plain": [
       "'car wreck_-ef43703c49fb57a010fa9ef1c6c28dbeffd491793e7333bb4299fe4490d95a7f.jpg'"
      ]
     },
     "execution_count": 32,
     "metadata": {},
     "output_type": "execute_result"
    }
   ],
   "source": [
    "list_files[0]"
   ]
  },
  {
   "cell_type": "code",
   "execution_count": 29,
   "id": "fab5131e",
   "metadata": {},
   "outputs": [],
   "source": [
    "import boto3\n",
    "import json\n",
    "import numpy as np\n",
    "from PIL import Image\n",
    "from IPython.display import display\n",
    "import io\n",
    "import base64\n",
    "from io import BytesIO\n",
    "\n",
    "categories = np.array([0,'none','low', 'medium', 'high'])\n",
    "\n",
    "def client_predictor(files):\n",
    "    for file in files:\n",
    "        image_path = f\"../sample_files/{file}\"\n",
    "        car_image = open(image_path, 'rb').read()\n",
    "        endpoint_name = predictor.endpoint_name\n",
    "        runtime_client = boto3.client('runtime.sagemaker')\n",
    "        response = runtime_client.invoke_endpoint(EndpointName=endpoint_name, \n",
    "                                           ContentType='application/x-image',     \n",
    "                                           Body=car_image)\n",
    "        res = response['Body'].read().decode('ascii')\n",
    "        \n",
    "        r = json.loads(res)\n",
    "        viz_img = r['image']\n",
    "        decoded = base64.b64decode(viz_img)\n",
    "        image = io.BytesIO(decoded)\n",
    "#         image_64_decode = base64.decodebytes(image) \n",
    "\n",
    "        img = Image.open(image)\n",
    "        display(img)"
   ]
  },
  {
   "cell_type": "markdown",
   "id": "3940da78",
   "metadata": {},
   "source": [
    "# VISUALIZE"
   ]
  },
  {
   "cell_type": "code",
   "execution_count": 34,
   "id": "2c4b9270",
   "metadata": {},
   "outputs": [
    {
     "ename": "InternalFailure",
     "evalue": "An error occurred (InternalFailure) when calling the InvokeEndpoint operation (reached max retries: 4): An exception occurred while sending request to model. Please contact customer support regarding request 5249d4db-d1c6-4907-81f7-725d19350357.",
     "output_type": "error",
     "traceback": [
      "\u001b[0;31m---------------------------------------------------------------------------\u001b[0m",
      "\u001b[0;31mInternalFailure\u001b[0m                           Traceback (most recent call last)",
      "\u001b[0;32m<ipython-input-34-6e0ddfa8038c>\u001b[0m in \u001b[0;36m<module>\u001b[0;34m\u001b[0m\n\u001b[0;32m----> 1\u001b[0;31m \u001b[0mclient_predictor\u001b[0m\u001b[0;34m(\u001b[0m\u001b[0mlist_files\u001b[0m\u001b[0;34m[\u001b[0m\u001b[0;36m0\u001b[0m\u001b[0;34m:\u001b[0m\u001b[0;36m1\u001b[0m\u001b[0;34m]\u001b[0m\u001b[0;34m)\u001b[0m\u001b[0;34m\u001b[0m\u001b[0;34m\u001b[0m\u001b[0m\n\u001b[0m",
      "\u001b[0;32m<ipython-input-29-5222aa43c612>\u001b[0m in \u001b[0;36mclient_predictor\u001b[0;34m(files)\u001b[0m\n\u001b[1;32m     18\u001b[0m         response = runtime_client.invoke_endpoint(EndpointName=endpoint_name, \n\u001b[1;32m     19\u001b[0m                                            \u001b[0mContentType\u001b[0m\u001b[0;34m=\u001b[0m\u001b[0;34m'application/x-image'\u001b[0m\u001b[0;34m,\u001b[0m\u001b[0;34m\u001b[0m\u001b[0;34m\u001b[0m\u001b[0m\n\u001b[0;32m---> 20\u001b[0;31m                                            Body=car_image)\n\u001b[0m\u001b[1;32m     21\u001b[0m         \u001b[0mres\u001b[0m \u001b[0;34m=\u001b[0m \u001b[0mresponse\u001b[0m\u001b[0;34m[\u001b[0m\u001b[0;34m'Body'\u001b[0m\u001b[0;34m]\u001b[0m\u001b[0;34m.\u001b[0m\u001b[0mread\u001b[0m\u001b[0;34m(\u001b[0m\u001b[0;34m)\u001b[0m\u001b[0;34m.\u001b[0m\u001b[0mdecode\u001b[0m\u001b[0;34m(\u001b[0m\u001b[0;34m'ascii'\u001b[0m\u001b[0;34m)\u001b[0m\u001b[0;34m\u001b[0m\u001b[0;34m\u001b[0m\u001b[0m\n\u001b[1;32m     22\u001b[0m \u001b[0;34m\u001b[0m\u001b[0m\n",
      "\u001b[0;32m~/anaconda3/envs/tensorflow_p36/lib/python3.6/site-packages/botocore/client.py\u001b[0m in \u001b[0;36m_api_call\u001b[0;34m(self, *args, **kwargs)\u001b[0m\n\u001b[1;32m    384\u001b[0m                     \"%s() only accepts keyword arguments.\" % py_operation_name)\n\u001b[1;32m    385\u001b[0m             \u001b[0;31m# The \"self\" in this scope is referring to the BaseClient.\u001b[0m\u001b[0;34m\u001b[0m\u001b[0;34m\u001b[0m\u001b[0;34m\u001b[0m\u001b[0m\n\u001b[0;32m--> 386\u001b[0;31m             \u001b[0;32mreturn\u001b[0m \u001b[0mself\u001b[0m\u001b[0;34m.\u001b[0m\u001b[0m_make_api_call\u001b[0m\u001b[0;34m(\u001b[0m\u001b[0moperation_name\u001b[0m\u001b[0;34m,\u001b[0m \u001b[0mkwargs\u001b[0m\u001b[0;34m)\u001b[0m\u001b[0;34m\u001b[0m\u001b[0;34m\u001b[0m\u001b[0m\n\u001b[0m\u001b[1;32m    387\u001b[0m \u001b[0;34m\u001b[0m\u001b[0m\n\u001b[1;32m    388\u001b[0m         \u001b[0m_api_call\u001b[0m\u001b[0;34m.\u001b[0m\u001b[0m__name__\u001b[0m \u001b[0;34m=\u001b[0m \u001b[0mstr\u001b[0m\u001b[0;34m(\u001b[0m\u001b[0mpy_operation_name\u001b[0m\u001b[0;34m)\u001b[0m\u001b[0;34m\u001b[0m\u001b[0;34m\u001b[0m\u001b[0m\n",
      "\u001b[0;32m~/anaconda3/envs/tensorflow_p36/lib/python3.6/site-packages/botocore/client.py\u001b[0m in \u001b[0;36m_make_api_call\u001b[0;34m(self, operation_name, api_params)\u001b[0m\n\u001b[1;32m    703\u001b[0m             \u001b[0merror_code\u001b[0m \u001b[0;34m=\u001b[0m \u001b[0mparsed_response\u001b[0m\u001b[0;34m.\u001b[0m\u001b[0mget\u001b[0m\u001b[0;34m(\u001b[0m\u001b[0;34m\"Error\"\u001b[0m\u001b[0;34m,\u001b[0m \u001b[0;34m{\u001b[0m\u001b[0;34m}\u001b[0m\u001b[0;34m)\u001b[0m\u001b[0;34m.\u001b[0m\u001b[0mget\u001b[0m\u001b[0;34m(\u001b[0m\u001b[0;34m\"Code\"\u001b[0m\u001b[0;34m)\u001b[0m\u001b[0;34m\u001b[0m\u001b[0;34m\u001b[0m\u001b[0m\n\u001b[1;32m    704\u001b[0m             \u001b[0merror_class\u001b[0m \u001b[0;34m=\u001b[0m \u001b[0mself\u001b[0m\u001b[0;34m.\u001b[0m\u001b[0mexceptions\u001b[0m\u001b[0;34m.\u001b[0m\u001b[0mfrom_code\u001b[0m\u001b[0;34m(\u001b[0m\u001b[0merror_code\u001b[0m\u001b[0;34m)\u001b[0m\u001b[0;34m\u001b[0m\u001b[0;34m\u001b[0m\u001b[0m\n\u001b[0;32m--> 705\u001b[0;31m             \u001b[0;32mraise\u001b[0m \u001b[0merror_class\u001b[0m\u001b[0;34m(\u001b[0m\u001b[0mparsed_response\u001b[0m\u001b[0;34m,\u001b[0m \u001b[0moperation_name\u001b[0m\u001b[0;34m)\u001b[0m\u001b[0;34m\u001b[0m\u001b[0;34m\u001b[0m\u001b[0m\n\u001b[0m\u001b[1;32m    706\u001b[0m         \u001b[0;32melse\u001b[0m\u001b[0;34m:\u001b[0m\u001b[0;34m\u001b[0m\u001b[0;34m\u001b[0m\u001b[0m\n\u001b[1;32m    707\u001b[0m             \u001b[0;32mreturn\u001b[0m \u001b[0mparsed_response\u001b[0m\u001b[0;34m\u001b[0m\u001b[0;34m\u001b[0m\u001b[0m\n",
      "\u001b[0;31mInternalFailure\u001b[0m: An error occurred (InternalFailure) when calling the InvokeEndpoint operation (reached max retries: 4): An exception occurred while sending request to model. Please contact customer support regarding request 5249d4db-d1c6-4907-81f7-725d19350357."
     ]
    }
   ],
   "source": [
    "client_predictor(list_files[0:1])"
   ]
  },
  {
   "cell_type": "code",
   "execution_count": 66,
   "id": "74be4d06",
   "metadata": {},
   "outputs": [],
   "source": [
    "# detect(predictor,list_files)"
   ]
  },
  {
   "cell_type": "markdown",
   "id": "333cf1aa",
   "metadata": {},
   "source": [
    "# HOUSE CLEANING"
   ]
  },
  {
   "cell_type": "code",
   "execution_count": 35,
   "id": "9a910e9c",
   "metadata": {},
   "outputs": [],
   "source": [
    "predictor.delete_endpoint()"
   ]
  }
 ],
 "metadata": {
  "kernelspec": {
   "display_name": "conda_tensorflow_p36",
   "language": "python",
   "name": "conda_tensorflow_p36"
  },
  "language_info": {
   "codemirror_mode": {
    "name": "ipython",
    "version": 3
   },
   "file_extension": ".py",
   "mimetype": "text/x-python",
   "name": "python",
   "nbconvert_exporter": "python",
   "pygments_lexer": "ipython3",
   "version": "3.6.13"
  }
 },
 "nbformat": 4,
 "nbformat_minor": 5
}
