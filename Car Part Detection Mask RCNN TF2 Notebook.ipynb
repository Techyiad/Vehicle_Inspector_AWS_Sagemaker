{
 "cells": [
  {
   "cell_type": "code",
   "execution_count": null,
   "id": "3ebbc8fe",
   "metadata": {},
   "outputs": [],
   "source": []
  },
  {
   "cell_type": "code",
   "execution_count": 1,
   "id": "f93803b1",
   "metadata": {},
   "outputs": [],
   "source": [
    "import sagemaker\n",
    "\n",
    "sagemaker_session = sagemaker.Session()\n",
    "role = sagemaker.get_execution_role()"
   ]
  },
  {
   "cell_type": "code",
   "execution_count": 4,
   "id": "44a466bc",
   "metadata": {},
   "outputs": [],
   "source": [
    "from sagemaker.tensorflow import TensorFlow\n",
    "\n",
    "hyperparams={'epochs'              : 1,\n",
    "             'layers'              : 'heads', # heads or all\n",
    "             'pretrained_weight'   : 'imagenet', # imagenet, coco\n",
    "            }\n",
    "\n",
    "bucket_name = sagemaker_session.default_bucket()\n",
    "output_path = f's3://{bucket_name}/jobs'"
   ]
  },
  {
   "cell_type": "code",
   "execution_count": 5,
   "id": "cf5a984d",
   "metadata": {},
   "outputs": [
    {
     "data": {
      "text/plain": [
       "['.ipynb_checkpoints',\n",
       " 'annotations.json',\n",
       " 'requirements.txt',\n",
       " 'Mask_RCNN',\n",
       " 'model.py',\n",
       " 'utils.py',\n",
       " 'preprocessor.py',\n",
       " 'train.py']"
      ]
     },
     "execution_count": 5,
     "metadata": {},
     "output_type": "execute_result"
    }
   ],
   "source": [
    "import os\n",
    "\n",
    "os.listdir(\"train/\")"
   ]
  },
  {
   "cell_type": "code",
   "execution_count": 9,
   "id": "30ea9159",
   "metadata": {},
   "outputs": [],
   "source": [
    "tf_estimator = TensorFlow(entry_point          = 'train.py', \n",
    "                          source_dir           = 'train/',\n",
    "                          output_path          = f'{output_path}/',\n",
    "                          code_location        = output_path,\n",
    "                          role                 = role,\n",
    "                          instance_count       = 1, \n",
    "                          instance_type        = 'ml.p3.2xlarge',\n",
    "                          framework_version    = '1.15.3', \n",
    "                          py_version           = 'py3',\n",
    "                          script_mode          = True,\n",
    "                          sagemaker_session    = sagemaker_session,\n",
    "                          hyperparameters      = hyperparams)"
   ]
  },
  {
   "cell_type": "code",
   "execution_count": null,
   "id": "3a16de8c",
   "metadata": {},
   "outputs": [],
   "source": [
    "import time\n",
    "job_name=f'tensorflow-maskrcnn-gpu-{time.strftime(\"%Y-%m-%d-%H-%M-%S\", time.gmtime())}'\n",
    "tf_estimator.fit({'training'  : \"s3://sagemaker-us-east-2-186402456289/sagemaker/mask_rcnn_localization_train\",\n",
    "                  'validation': \"s3://sagemaker-us-east-2-186402456289/sagemaker/mask_rcnn_localization_valid\",\n",
    "                  }, \n",
    "                 job_name = job_name)"
   ]
  },
  {
   "cell_type": "code",
   "execution_count": null,
   "id": "ba2dabc8",
   "metadata": {},
   "outputs": [],
   "source": []
  },
  {
   "cell_type": "code",
   "execution_count": null,
   "id": "404c12c0",
   "metadata": {},
   "outputs": [],
   "source": []
  },
  {
   "cell_type": "code",
   "execution_count": null,
   "id": "66362742",
   "metadata": {},
   "outputs": [],
   "source": []
  }
 ],
 "metadata": {
  "kernelspec": {
   "display_name": "conda_tensorflow_p36",
   "language": "python",
   "name": "conda_tensorflow_p36"
  },
  "language_info": {
   "codemirror_mode": {
    "name": "ipython",
    "version": 3
   },
   "file_extension": ".py",
   "mimetype": "text/x-python",
   "name": "python",
   "nbconvert_exporter": "python",
   "pygments_lexer": "ipython3",
   "version": "3.6.13"
  }
 },
 "nbformat": 4,
 "nbformat_minor": 5
}
